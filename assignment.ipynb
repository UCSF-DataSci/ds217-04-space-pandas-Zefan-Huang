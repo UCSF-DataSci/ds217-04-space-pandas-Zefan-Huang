{
 "cells": [
  {
   "cell_type": "markdown",
   "id": "0b16dc9a",
   "metadata": {},
   "source": [
    "## Instructions\n",
    "\n",
    "Complete the three questions below. Each question builds on the previous one.\n",
    "\n",
    "**Important:**\n",
    "- Run cells in order from top to bottom\n",
    "- Each question must save a CSV file to the `output/` directory\n",
    "- Test your work locally before submitting: `pytest .github/test/test_assignment.py -v`\n",
    "- Before final submission: Restart kernel and \"Run All\" to verify everything works\n",
    "\n",
    "---\n",
    "\n",
    "## Setup\n",
    "\n",
    "Run this cell first to import libraries and create the output directory:"
   ]
  },
  {
   "cell_type": "code",
   "execution_count": 25,
   "id": "b8e9e88c",
   "metadata": {},
   "outputs": [
    {
     "name": "stdout",
     "output_type": "stream",
     "text": [
      "✓ Setup complete\n"
     ]
    }
   ],
   "source": [
    "import pandas as pd\n",
    "import numpy as np\n",
    "import os\n",
    "\n",
    "# Create output directory\n",
    "os.makedirs('output', exist_ok=True)\n",
    "\n",
    "print(\"✓ Setup complete\")"
   ]
  },
  {
   "cell_type": "markdown",
   "id": "ff00bfd2",
   "metadata": {},
   "source": [
    "---\n",
    "\n",
    "## Question 1: Data Loading & Exploration\n",
    "\n",
    "**Objective:** Load the dataset, select specific columns, perform basic inspection, and generate summary statistics.\n",
    "\n",
    "### Part A: Load and Inspect the Data\n",
    "\n",
    "Load `data/customer_purchases.csv` and display basic information about the dataset."
   ]
  },
  {
   "cell_type": "code",
   "execution_count": 26,
   "id": "5927f444",
   "metadata": {},
   "outputs": [
    {
     "name": "stdout",
     "output_type": "stream",
     "text": [
      "<class 'pandas.core.frame.DataFrame'>\n",
      "Index: 15000 entries, P00001 to P15000\n",
      "Data columns (total 8 columns):\n",
      " #   Column            Non-Null Count  Dtype  \n",
      "---  ------            --------------  -----  \n",
      " 0   customer_id       15000 non-null  object \n",
      " 1   product_category  15000 non-null  object \n",
      " 2   product_name      15000 non-null  object \n",
      " 3   quantity          14400 non-null  float64\n",
      " 4   price_per_item    15000 non-null  float64\n",
      " 5   purchase_date     15000 non-null  object \n",
      " 6   customer_state    15000 non-null  object \n",
      " 7   shipping_method   14400 non-null  object \n",
      "dtypes: float64(2), object(6)\n",
      "memory usage: 1.0+ MB\n"
     ]
    }
   ],
   "source": [
    "\n",
    "df = pd.read_csv('data/customer_purchases.csv', index_col=0)\n",
    "\n",
    "df.shape\n",
    "\n",
    "df.head(5)\n",
    "\n",
    "df.info()"
   ]
  },
  {
   "cell_type": "markdown",
   "id": "14e36a27",
   "metadata": {},
   "source": [
    "### Part B: Check for Missing Values\n",
    "\n",
    "Identify which columns have missing values and how many."
   ]
  },
  {
   "cell_type": "code",
   "execution_count": 27,
   "id": "19082e14",
   "metadata": {},
   "outputs": [
    {
     "data": {
      "text/plain": [
       "customer_id           0\n",
       "product_category      0\n",
       "product_name          0\n",
       "quantity            600\n",
       "price_per_item        0\n",
       "purchase_date         0\n",
       "customer_state        0\n",
       "shipping_method     600\n",
       "dtype: int64"
      ]
     },
     "execution_count": 27,
     "metadata": {},
     "output_type": "execute_result"
    }
   ],
   "source": [
    "df.isnull().sum()"
   ]
  },
  {
   "cell_type": "markdown",
   "id": "d384d35c",
   "metadata": {},
   "source": [
    "### Part C: Select Numeric Columns\n",
    "\n",
    "Create a new DataFrame containing only the numeric columns from the original data."
   ]
  },
  {
   "cell_type": "code",
   "execution_count": 28,
   "id": "19072226",
   "metadata": {},
   "outputs": [],
   "source": [
    "\n",
    "df_numeric = df.select_dtypes(include=['number'])"
   ]
  },
  {
   "cell_type": "markdown",
   "id": "b7cceb93",
   "metadata": {},
   "source": [
    "### Part D: Generate Summary Statistics\n",
    "\n",
    "Calculate summary statistics for the numeric columns."
   ]
  },
  {
   "cell_type": "code",
   "execution_count": 34,
   "id": "c027e321",
   "metadata": {},
   "outputs": [],
   "source": [
    "\n",
    "q1summary = df_numeric.describe()\n",
    "# TODO: Save the summary statistics to 'output/exploration_summary.csv'\n",
    "# Hint: Use .to_csv()\n",
    "# Example: summary_stats.to_csv('output/exploration_summary.csv')\n",
    "q1summary.to_csv('output/exploration_summary.csv')\n"
   ]
  },
  {
   "cell_type": "markdown",
   "id": "a5c4f4f5",
   "metadata": {},
   "source": [
    "**Expected output file:** `output/exploration_summary.csv` containing summary statistics (count, mean, std, min, 25%, 50%, 75%, max) for numeric columns.\n",
    "\n",
    "---\n",
    "\n",
    "## Question 2: Data Cleaning & Transformation\n",
    "\n",
    "**Objective:** Handle missing values, convert data types, filter the data, and save the cleaned dataset.\n",
    "\n",
    "### Part A: Handle Missing Values\n",
    "\n",
    "Fill missing values in the `quantity` column with 1, and drop rows where `shipping_method` is missing."
   ]
  },
  {
   "cell_type": "code",
   "execution_count": 7,
   "id": "ccfbd5e6",
   "metadata": {},
   "outputs": [
    {
     "name": "stdout",
     "output_type": "stream",
     "text": [
      "quantity           0\n",
      "shipping_method    0\n",
      "dtype: int64\n"
     ]
    }
   ],
   "source": [
    "# TODO: Fill missing 'quantity' values with 1\n",
    "# Hint: Use .fillna()\n",
    "df.loc[:,\"quantity\"] = df.loc[:,\"quantity\"].fillna(1)\n",
    "# TODO: Drop rows where 'shipping_method' is missing\n",
    "# Hint: Use .dropna(subset=['column_name'])\n",
    "df = df.dropna(subset=['shipping_method'])\n",
    "# TODO: Verify no missing values remain in 'quantity' and 'shipping_method'\n",
    "# Hint: Use .isnull().sum()\n",
    "print(df.loc[:, ['quantity', 'shipping_method']].isnull().sum())"
   ]
  },
  {
   "cell_type": "markdown",
   "id": "f9eb921d",
   "metadata": {},
   "source": [
    "### Part B: Convert Data Types\n",
    "\n",
    "Convert the `purchase_date` column from string to datetime, and `quantity` to integer."
   ]
  },
  {
   "cell_type": "code",
   "execution_count": null,
   "id": "9ce1fc13",
   "metadata": {},
   "outputs": [
    {
     "data": {
      "text/plain": [
       "dtype('int64')"
      ]
     },
     "execution_count": 8,
     "metadata": {},
     "output_type": "execute_result"
    }
   ],
   "source": [
    "# TODO: Convert 'purchase_date' to datetime\n",
    "# Hint: Use pd.to_datetime()\n",
    "df['purchase_date'] = pd.to_datetime(df['purchase_date'])\n",
    "# TODO: Convert 'quantity' to integer type\n",
    "# Hint: Use .astype('int64')\n",
    "df['purchase_date'] = df['purchase_date'].astype(int)\n",
    "# TODO: Verify the data types changed\n",
    "# Hint: Use .dtypes\n",
    "df['purchase_date'].dtypes"
   ]
  },
  {
   "cell_type": "markdown",
   "id": "a532b8da",
   "metadata": {},
   "source": [
    "### Part C: Filter the Data\n",
    "\n",
    "Keep only purchases from California (CA) and New York (NY) with quantity greater than or equal to 2."
   ]
  },
  {
   "cell_type": "code",
   "execution_count": 9,
   "id": "a68bea3e",
   "metadata": {},
   "outputs": [
    {
     "name": "stdout",
     "output_type": "stream",
     "text": [
      "3581\n"
     ]
    }
   ],
   "source": [
    "# TODO: Filter the DataFrame to keep only:\n",
    "#       - customer_state is 'CA' or 'NY'\n",
    "#       - quantity >= 2\n",
    "# Hint: Use boolean indexing with &\n",
    "# Hint: Use .isin(['CA', 'NY']) for multiple values\n",
    "df_filtered = df[(df['customer_state'].isin(['CA', 'NY'])) & (df['quantity'] >= 2)] ## df['customer_state'].isin(['CA', 'NY'])) & (df['quantity'] >= 2) this is the boolean mask, and then we use df[mask], applied masking into the df\n",
    "\n",
    "# TODO: Display how many rows remain after filtering\n",
    "print(len(df_filtered))"
   ]
  },
  {
   "cell_type": "markdown",
   "id": "022ee50f",
   "metadata": {},
   "source": [
    "### Part D: Save Cleaned Data\n",
    "\n",
    "Save the cleaned and filtered DataFrame."
   ]
  },
  {
   "cell_type": "code",
   "execution_count": 18,
   "id": "9abcc74b",
   "metadata": {},
   "outputs": [],
   "source": [
    "# TODO: Save df_filtered to 'output/cleaned_data.csv' (without the index)\n",
    "# Hint: Use .to_csv('filename.csv', index=False)\n",
    "df_filtered.to_csv(\"output/cleaned_data.csv\", index = False)"
   ]
  },
  {
   "cell_type": "markdown",
   "id": "347b080b",
   "metadata": {},
   "source": [
    "**Expected output file:** `output/cleaned_data.csv` containing the cleaned and filtered data (no missing values in quantity/shipping_method, only CA/NY states, quantity >= 2, datetime and integer types).\n",
    "\n",
    "---\n",
    "\n",
    "## Question 3: Analysis & Aggregation\n",
    "\n",
    "**Objective:** Create calculated columns, perform groupby aggregations, find top products, and save results.\n",
    "\n",
    "**Note:** Use the cleaned DataFrame (`df_filtered`) from Question 2 for this question.\n",
    "\n",
    "### Part A: Create a Calculated Column\n",
    "\n",
    "Create a new column `total_price` by multiplying `quantity` and `price_per_item`."
   ]
  },
  {
   "cell_type": "code",
   "execution_count": null,
   "id": "63695cb3",
   "metadata": {},
   "outputs": [
    {
     "name": "stdout",
     "output_type": "stream",
     "text": [
      "Index(['customer_id', 'product_category', 'product_name', 'quantity',\n",
      "       'price_per_item', 'purchase_date', 'customer_state', 'shipping_method',\n",
      "       'total_price'],\n",
      "      dtype='object')\n",
      "purchase_id\n",
      "P00001     451.68\n",
      "P00002     352.84\n",
      "P00003     482.64\n",
      "P00004     749.60\n",
      "P00005    1557.40\n",
      "Name: total_price, dtype: float64\n"
     ]
    }
   ],
   "source": [
    "# TODO: Create 'total_price' column\n",
    "# Hint: df['new_col'] = df['col1'] * df['col2']\n",
    "df['total_price'] = df['quantity'] * df['price_per_item']\n",
    "# TODO: Display the first few rows to verify\n",
    "print(df['total_price'].head())"
   ]
  },
  {
   "cell_type": "markdown",
   "id": "303e3716",
   "metadata": {},
   "source": [
    "### Part B: Calculate Total Revenue by Product Category\n",
    "\n",
    "Group the data by `product_category` and calculate the sum of `total_price` for each category."
   ]
  },
  {
   "cell_type": "code",
   "execution_count": 15,
   "id": "98206c2c",
   "metadata": {},
   "outputs": [
    {
     "name": "stdout",
     "output_type": "stream",
     "text": [
      "product_category\n",
      "Electronics      2199552.18\n",
      "Home & Garden    2158123.29\n",
      "Books            2128011.24\n",
      "Clothing         2099264.69\n",
      "Sports           2077707.68\n",
      "Name: total_price, dtype: float64\n"
     ]
    }
   ],
   "source": [
    "# TODO: Group by 'product_category' and sum 'total_price'\n",
    "# Hint: Use .groupby('column')['target'].sum()\n",
    "revenue_by_category = df.groupby('product_category')['total_price'].sum()\n",
    "\n",
    "# TODO: Sort by revenue (descending)\n",
    "# Hint: Use .sort_values(ascending=False)\n",
    "revenue_by_category = revenue_by_category.sort_values(ascending=False)\n",
    "# TODO: Display the results\n",
    "print(revenue_by_category)"
   ]
  },
  {
   "cell_type": "markdown",
   "id": "8087c271",
   "metadata": {},
   "source": [
    "### Part C: Find Top 5 Products by Quantity Sold\n",
    "\n",
    "Find the 5 products with the highest total quantity sold."
   ]
  },
  {
   "cell_type": "code",
   "execution_count": 16,
   "id": "fb23e3a1",
   "metadata": {},
   "outputs": [
    {
     "name": "stdout",
     "output_type": "stream",
     "text": [
      "product_name\n",
      "Garden Tools    1988.0\n",
      "Yoga Mat        1844.0\n",
      "T-Shirt         1835.0\n",
      "Headphones      1813.0\n",
      "Smartphone      1806.0\n",
      "Name: quantity, dtype: float64\n"
     ]
    }
   ],
   "source": [
    "# TODO: Group by 'product_name' and sum 'quantity'\n",
    "# TODO: Get the top 5 using .nlargest(5) or .sort_values().head(5)\n",
    "top_5_products = df.groupby('product_name')['quantity'].sum()\n",
    "top_5_products = top_5_products.nlargest(5)\n",
    "# TODO: Display the results\n",
    "print(top_5_products)"
   ]
  },
  {
   "cell_type": "markdown",
   "id": "30f90c4a",
   "metadata": {},
   "source": [
    "### Part D: Save Analysis Results\n",
    "\n",
    "Combine the revenue by category and top 5 products into a summary and save it."
   ]
  },
  {
   "cell_type": "code",
   "execution_count": 17,
   "id": "f54a026f",
   "metadata": {},
   "outputs": [],
   "source": [
    "# TODO: Create a DataFrame with your analysis results\n",
    "# Hint: You can create a DataFrame with:\n",
    "#   pd.DataFrame({\n",
    "#       'category_revenue': revenue_by_category,\n",
    "#       'top_products': top_5_products  # You may need to reindex or align these\n",
    "#   })\n",
    "#\n",
    "# OR save them separately and combine in a way that makes sense\n",
    "# The tests will check that you saved the correct aggregated data\n",
    "result_df = pd.DataFrame({\n",
    "    'category_revenus': revenue_by_category,\n",
    "    'top_products': top_5_products\n",
    "})\n",
    "# TODO: Save to 'output/analysis_results.csv'\n",
    "# Make sure the CSV has at least these columns or data:\n",
    "#   - Product categories with their total revenue\n",
    "#   - Top products by quantity\n",
    "# Format the output so the auto-grader can find the aggregated values\n",
    "\n",
    "# Example structure (adjust as needed):\n",
    "analysis_summary = pd.DataFrame({\n",
    "    'product_category': revenue_by_category.index,\n",
    "    'total_revenue': revenue_by_category.values\n",
    "})\n",
    "\n",
    "# TODO: Save analysis_summary or your own structured result\n",
    "# analysis_summary.to_csv('output/analysis_results.csv', index=False)\n",
    "analysis_summary.to_csv('output/analysis_results.csv', index=False)"
   ]
  },
  {
   "cell_type": "markdown",
   "id": "efc54d41",
   "metadata": {},
   "source": [
    "**Expected output file:** `output/analysis_results.csv` containing aggregated analysis results (revenue by category, top products)."
   ]
  }
 ],
 "metadata": {
  "kernelspec": {
   "display_name": ".venv",
   "language": "python",
   "name": "python3"
  },
  "language_info": {
   "codemirror_mode": {
    "name": "ipython",
    "version": 3
   },
   "file_extension": ".py",
   "mimetype": "text/x-python",
   "name": "python",
   "nbconvert_exporter": "python",
   "pygments_lexer": "ipython3",
   "version": "3.13.7"
  }
 },
 "nbformat": 4,
 "nbformat_minor": 5
}
